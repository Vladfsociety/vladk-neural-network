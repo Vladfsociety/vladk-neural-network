{
 "cells": [
  {
   "cell_type": "code",
   "execution_count": 2,
   "id": "d6feec5f-96b9-45e0-851b-2932300ce90a",
   "metadata": {},
   "outputs": [],
   "source": [
    "import time\n",
    "import matplotlib.pyplot as plt\n",
    "import torch\n",
    "from src.model.base import NeuralNetwork\n",
    "from src.model.layer import Input, FullyConnected\n",
    "from src.model.loss import MeanSquaredError\n",
    "from src.model.optimizer import SGD\n",
    "from src.model.activation import Relu, Linear\n",
    "from src.model.metric import R2Score"
   ]
  },
  {
   "cell_type": "code",
   "execution_count": 3,
   "id": "50ed204c-f20a-4a81-bdfa-6eb4d0013483",
   "metadata": {},
   "outputs": [],
   "source": [
    "def func_quad(arg):\n",
    "    return 0.5 * arg**2 + 2 * arg - 1\n",
    "\n",
    "def func_linear(arg):\n",
    "    return -1.0 * arg - 1"
   ]
  },
  {
   "cell_type": "code",
   "execution_count": 4,
   "id": "b3c4099c-45d9-4127-b293-32542e9c706b",
   "metadata": {},
   "outputs": [],
   "source": [
    "def func_quad_3d(arg_x, arg_y):\n",
    "    return 0.2 * arg_x**2 + 0.2 * arg_y**2\n",
    "\n",
    "def func_sin_plus_cos_3d(arg_x, arg_y):\n",
    "    return torch.sin(arg_x) + torch.cos(arg_y)"
   ]
  },
  {
   "cell_type": "code",
   "execution_count": 5,
   "id": "9b0ad86b-1c6c-4e90-8538-e79622d5d8cc",
   "metadata": {},
   "outputs": [],
   "source": [
    "def plot(x, y):\n",
    "    plt.figure()\n",
    "    plt.plot(x, y)\n",
    "    plt.grid(True)\n",
    "    plt.show()"
   ]
  },
  {
   "cell_type": "code",
   "execution_count": 6,
   "id": "1ae5b38f-17cf-4551-ac7f-b8743491de96",
   "metadata": {},
   "outputs": [],
   "source": [
    "def plot_3d(x, y, z):\n",
    "    fig = plt.figure()\n",
    "    ax = fig.add_subplot(111, projection=\"3d\")\n",
    "\n",
    "    ax.plot_surface(x, y, z, cmap=\"viridis\")\n",
    "\n",
    "    ax.set_xlabel(\"X\")\n",
    "    ax.set_ylabel(\"Y\")\n",
    "    ax.set_zlabel(\"f(X, Y)\")\n",
    "\n",
    "    plt.grid(True)\n",
    "    plt.show()"
   ]
  },
  {
   "cell_type": "code",
   "execution_count": 7,
   "id": "34989f76-01a4-441c-a298-a86c3a2d9d56",
   "metadata": {},
   "outputs": [],
   "source": [
    "def generate_train_test_data(func):\n",
    "    \n",
    "    x = torch.linspace(-5, 5, 100)\n",
    "\n",
    "    train_data = []    \n",
    "\n",
    "    for x_i in x:\n",
    "        train_data.append(\n",
    "            {\n",
    "                \"input\": [x_i],\n",
    "                \"output\": [func(x_i)],\n",
    "            }\n",
    "        )\n",
    "\n",
    "    x = torch.linspace(-5, 5, 30)\n",
    "\n",
    "    test_data = []\n",
    "\n",
    "    for x_i in x:\n",
    "        test_data.append(\n",
    "            {\n",
    "                \"input\": [x_i],\n",
    "                \"output\": [func(x_i)],\n",
    "            }\n",
    "        )\n",
    "\n",
    "    return train_data, test_data"
   ]
  },
  {
   "cell_type": "code",
   "execution_count": null,
   "id": "67c3b5ab-3f57-4bbb-869a-bbd33c3a208b",
   "metadata": {},
   "outputs": [],
   "source": [
    "def generate_train_test_data_3d(func_3d):\n",
    "    \n",
    "    x = torch.linspace(-5, 5, 50)\n",
    "    y = torch.linspace(-5, 5, 50)\n",
    "    x, y = torch.meshgrid(x, y, indexing=\"ij\")\n",
    "\n",
    "    train_data = []\n",
    "\n",
    "    for i in range(x.size(0)):\n",
    "        for j in range(x.size(1)):\n",
    "            train_data.append(\n",
    "                {\n",
    "                    \"input\": [x[i][j], y[i][j]],\n",
    "                    \"output\": [func_3d(x[i][j], y[i][j])],\n",
    "                }\n",
    "            )\n",
    "\n",
    "    x = torch.linspace(-5, 5, 30)\n",
    "    y = torch.linspace(-5, 5, 30)\n",
    "    x, y = torch.meshgrid(x, y, indexing=\"ij\")\n",
    "\n",
    "    test_data = []\n",
    "\n",
    "    for i in range(x.size(0)):\n",
    "        for j in range(x.size(1)):\n",
    "            test_data.append(\n",
    "                {\n",
    "                    \"input\": [x[i][j], y[i][j]],\n",
    "                    \"output\": [func_3d(x[i][j], y[i][j])],\n",
    "                }\n",
    "            )\n",
    "\n",
    "    return train_data, test_data"
   ]
  },
  {
   "cell_type": "code",
   "execution_count": 8,
   "id": "f1893623-5f97-49a4-94f3-37363da10c62",
   "metadata": {},
   "outputs": [
    {
     "ename": "NameError",
     "evalue": "name 'func_' is not defined",
     "output_type": "error",
     "traceback": [
      "\u001b[0;31m---------------------------------------------------------------------------\u001b[0m",
      "\u001b[0;31mNameError\u001b[0m                                 Traceback (most recent call last)",
      "Cell \u001b[0;32mIn[8], line 1\u001b[0m\n\u001b[0;32m----> 1\u001b[0m train_dataset, test_dataset \u001b[38;5;241m=\u001b[39m generate_train_test_data(\u001b[43mfunc_\u001b[49m)\n\u001b[1;32m      3\u001b[0m layers \u001b[38;5;241m=\u001b[39m [\n\u001b[1;32m      4\u001b[0m     FullyConnected(\u001b[38;5;241m128\u001b[39m, Relu()),\n\u001b[1;32m      5\u001b[0m     FullyConnected(\u001b[38;5;241m128\u001b[39m, Relu()),\n\u001b[1;32m      6\u001b[0m     FullyConnected(\u001b[38;5;241m128\u001b[39m, Relu()),\n\u001b[1;32m      7\u001b[0m     FullyConnected(\u001b[38;5;241m1\u001b[39m, Linear()),\n\u001b[1;32m      8\u001b[0m ]\n\u001b[1;32m     10\u001b[0m nn \u001b[38;5;241m=\u001b[39m NeuralNetwork(\n\u001b[1;32m     11\u001b[0m     Input(\u001b[38;5;241m1\u001b[39m),\n\u001b[1;32m     12\u001b[0m     layers,\n\u001b[0;32m   (...)\u001b[0m\n\u001b[1;32m     15\u001b[0m     metric\u001b[38;5;241m=\u001b[39mR2Score()\n\u001b[1;32m     16\u001b[0m )\n",
      "\u001b[0;31mNameError\u001b[0m: name 'func_' is not defined"
     ]
    }
   ],
   "source": [
    "train_dataset, test_dataset = generate_train_test_data(func_linear)\n",
    "\n",
    "layers = [\n",
    "    FullyConnected(128, Relu()),\n",
    "    FullyConnected(128, Relu()),\n",
    "    FullyConnected(128, Relu()),\n",
    "    FullyConnected(1, Linear()),\n",
    "]\n",
    "\n",
    "nn = NeuralNetwork(\n",
    "    Input(1),\n",
    "    layers,\n",
    "    optimizer=SGD(),\n",
    "    loss=MeanSquaredError(),\n",
    "    metric=R2Score()\n",
    ")\n",
    "\n",
    "epochs = 40\n",
    "nn.fit(train_dataset, test_dataset, epochs=epochs, batch_size=1, verbose=True)"
   ]
  }
 ],
 "metadata": {
  "kernelspec": {
   "display_name": "Python 3 (ipykernel)",
   "language": "python",
   "name": "python3"
  },
  "language_info": {
   "codemirror_mode": {
    "name": "ipython",
    "version": 3
   },
   "file_extension": ".py",
   "mimetype": "text/x-python",
   "name": "python",
   "nbconvert_exporter": "python",
   "pygments_lexer": "ipython3",
   "version": "3.12.3"
  }
 },
 "nbformat": 4,
 "nbformat_minor": 5
}
